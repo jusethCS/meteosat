{
 "cells": [
  {
   "cell_type": "code",
   "execution_count": null,
   "metadata": {},
   "outputs": [],
   "source": [
    "# pip install twine\n",
    "# python setup.py sdist bdist_wheel\n",
    "# python -m twine upload --repository testpypi dist/*\n",
    "\n",
    "# conda install fiona\n",
    "# conda install shapely\n",
    "# conda install pandas\n",
    "# conda install geopandas\n",
    "# conda install rasterio\n",
    "\n",
    "# conda install\n",
    "# pip install -i https://test.pypi.org/simple/ meteosat\n",
    "\n",
    "# conda create -n meteosat fiona shapely pandas geopandas rasterio"
   ]
  },
  {
   "cell_type": "code",
   "execution_count": 1,
   "metadata": {},
   "outputs": [],
   "source": [
    "import pandas as pd\n",
    "from meteosat import *"
   ]
  },
  {
   "cell_type": "code",
   "execution_count": 2,
   "metadata": {},
   "outputs": [
    {
     "name": "stdout",
     "output_type": "stream",
     "text": [
      "Downloaded CHIRPS daily file: 1981-01-03 00:00:00\r"
     ]
    }
   ],
   "source": [
    "start_date = \"1981-01-01\"\n",
    "end_date = \"2024-12-31\"\n",
    "dates = pd.date_range(start_date, end_date, freq = \"D\")\n",
    "ch = CHIRPS()\n",
    "\n",
    "i = 2\n",
    "ch.download(\n",
    "    date=dates[i], \n",
    "    timestep=\"daily\", \n",
    "    outpath=dates[i].strftime(\"%Y-%m-%d.tif\"))"
   ]
  }
 ],
 "metadata": {
  "kernelspec": {
   "display_name": "hidromet",
   "language": "python",
   "name": "python3"
  },
  "language_info": {
   "codemirror_mode": {
    "name": "ipython",
    "version": 3
   },
   "file_extension": ".py",
   "mimetype": "text/x-python",
   "name": "python",
   "nbconvert_exporter": "python",
   "pygments_lexer": "ipython3",
   "version": "3.12.1"
  }
 },
 "nbformat": 4,
 "nbformat_minor": 2
}
