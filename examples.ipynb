{
 "cells": [
  {
   "cell_type": "code",
   "execution_count": null,
   "metadata": {},
   "outputs": [],
   "source": [
    "# pip install twine\n",
    "# python setup.py sdist bdist_wheel\n",
    "# python -m twine upload --repository testpypi dist/*\n",
    "\n",
    "# conda install fiona\n",
    "# conda install shapely\n",
    "# conda install pandas\n",
    "# conda install geopandas\n",
    "# conda install rasterio\n",
    "# conda install conda-forge::pydrive\n",
    "\n",
    "# conda install\n",
    "# pip install -i https://test.pypi.org/simple/ meteosat\n",
    "\n",
    "# conda create -n meteosatpy fiona shapely geopandas rasterio conda-forge::rclone\n",
    "# conda install conda-forge::rclone\n",
    "\n",
    "\n",
    "\n",
    "# rclone config\n",
    "# Select new\n",
    "# Name the remote folder: GoogleDrive\n",
    "# Select Google Drive service (usually option 18)\n",
    "\n",
    "# Configure client_id and secret_id\n",
    "# Configure access (provide Full)\n",
    "# service_account_file: leave empty\n",
    "# Edit advanced config: No\n",
    "# Server had web browser= Yes\n",
    "# Configure as team drive: no\n",
    "# Keep thi \"Google Drive\" remote: yes"
   ]
  },
  {
   "cell_type": "code",
   "execution_count": 1,
   "metadata": {},
   "outputs": [],
   "source": [
    "import pandas as pd\n",
    "from meteosatpy import CHIRPS, CMORPH, MSWEP"
   ]
  },
  {
   "cell_type": "code",
   "execution_count": 2,
   "metadata": {},
   "outputs": [
    {
     "name": "stdout",
     "output_type": "stream",
     "text": [
      "Downloaded CMORPH Daily file: 2000-01-03 00:00:00\r"
     ]
    }
   ],
   "source": [
    "start_date = \"2000-01-01\"\n",
    "end_date = \"2000-12-31\"\n",
    "dates = pd.date_range(start_date, end_date, freq = \"D\")\n",
    "cm = CMORPH()\n",
    "ch = CHIRPS()\n",
    "mw = MSWEP()\n",
    "\n",
    "i = 2\n",
    "\n",
    "#cm.download(\n",
    "#    date=dates[i], \n",
    "#    timestep=\"daily\", \n",
    "#    outpath=dates[i].strftime(\"cmorph_%Y-%m-%d.tif\"))\n",
    "\n",
    "#ch.download(\n",
    "#    date=dates[i], \n",
    "#    timestep=\"daily\", \n",
    "#    outpath=dates[i].strftime(\"chirps_%Y-%m-%d.tif\"))\n",
    "\n",
    "mw.download(\n",
    "    date=dates[i], \n",
    "    timestep=\"daily\", \n",
    "    dataset=\"Past\",\n",
    "    outpath=dates[i].strftime(\"mswep_%Y-%m-%d.tif\"))\n"
   ]
  }
 ],
 "metadata": {
  "kernelspec": {
   "display_name": "hidromet",
   "language": "python",
   "name": "python3"
  },
  "language_info": {
   "codemirror_mode": {
    "name": "ipython",
    "version": 3
   },
   "file_extension": ".py",
   "mimetype": "text/x-python",
   "name": "python",
   "nbconvert_exporter": "python",
   "pygments_lexer": "ipython3",
   "version": "3.9.18"
  }
 },
 "nbformat": 4,
 "nbformat_minor": 2
}
